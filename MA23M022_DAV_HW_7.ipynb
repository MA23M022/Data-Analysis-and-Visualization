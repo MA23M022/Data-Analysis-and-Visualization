{
  "nbformat": 4,
  "nbformat_minor": 0,
  "metadata": {
    "colab": {
      "provenance": []
    },
    "kernelspec": {
      "name": "python3",
      "display_name": "Python 3"
    },
    "language_info": {
      "name": "python"
    }
  },
  "cells": [
    {
      "cell_type": "code",
      "execution_count": null,
      "metadata": {
        "id": "qa2Ery3UDAW6"
      },
      "outputs": [],
      "source": [
        "import numpy as np           #importing libraries.\n",
        "import math as m\n",
        "import pandas as pd\n",
        "import tensorflow as tf\n",
        "import matplotlib.pyplot as plt\n"
      ]
    },
    {
      "cell_type": "code",
      "source": [],
      "metadata": {
        "id": "qck_yYLPDQPk"
      },
      "execution_count": null,
      "outputs": []
    },
    {
      "cell_type": "code",
      "source": [
        "def cross_entropy(Y, pred_y):          # defining cross entropy cost function. Y and pred_y are actual\n",
        "    r, c = np.shape(pred_y)                     # and predicted labels of a specified dataset.\n",
        "    error = 0\n",
        "    index = np.argmax(Y, axis = 1)\n",
        "    for i in range(r):\n",
        "        error += -np.log(pred_y[i][index[i]])\n",
        "    error = error/r\n",
        "    return error                                 # returning cost value.\n",
        "\n",
        "\n",
        "def sigmoid(z, diff):                 # defining sigmoid function. Where diff represents that this function used for differentiation or not.\n",
        "    val = val = 1/(1 + np.exp(-z))\n",
        "    if(diff == True):\n",
        "        val = val*(1 - val)\n",
        "    return val\n",
        "\n",
        "def softmax(z, diff):         # defining softmax function.\n",
        "    r, c = np.shape(z)\n",
        "    val = np.exp(z)\n",
        "    for i in range(c):\n",
        "        denomenator = np.sum(val[:,i])\n",
        "        val[:,i] = val[:,i]/denomenator\n",
        "    return val\n",
        "\n",
        "def Relu(z, diff):            # defining relu function.\n",
        "    val = np.maximum(0, z)\n",
        "    if(diff == True):\n",
        "        for i in range(val.shape[0]):\n",
        "            for j in range(val.shape[1]):\n",
        "                if(z[i][j] > 0):\n",
        "                    val[i][j] = 1\n",
        "                else:\n",
        "                    val[i][j] = 0\n",
        "    return val\n",
        "\n",
        "\n",
        "\n",
        "def grad_J(y, pred_y, pre_activation, activation_function):   # defining grad_J function to compute gradient of cost function\n",
        "    r, c = np.shape(pred_y)                                     # with respect to optput layer's output.\n",
        "    grad = np.zeros((r, c))\n",
        "\n",
        "    one_hot_vector = np.zeros((r, c))\n",
        "    for j in range(c):\n",
        "        for i in range(r):\n",
        "            if(y[i][j] == 1):\n",
        "                one_hot_vector[i][j] = 1\n",
        "    grad = -(one_hot_vector - pred_y)\n",
        "\n",
        "    return grad                                            # returning gradient.\n",
        "\n",
        "\n",
        "\n",
        "def forward_prop(x, n_layer, f_list, w_list, b_list):   # defining forward propagation algorithm to compute each layer's output.\n",
        "    layer_output_list = []\n",
        "    activation_list = []\n",
        "\n",
        "    h = x\n",
        "    for i in range(n_layer - 1):\n",
        "        active = np.dot(w_list[i], h) + b_list[i]\n",
        "        activation_list.append(active)\n",
        "        output = f_list[i](active, diff = False)\n",
        "        layer_output_list.append(output)\n",
        "        h = output\n",
        "\n",
        "    active = np.dot(w_list[n_layer - 1], h) + b_list[n_layer - 1]\n",
        "    activation_list.append(active)\n",
        "    output = f_list[n_layer - 1](active, diff = False)\n",
        "    layer_output_list.append(output)\n",
        "\n",
        "    return activation_list, layer_output_list    # returning each layer's pre-activation and output vector.\n",
        "\n",
        "\n",
        "\n",
        "def Back_prop(x, y, n_layer, f_list, w_list, b_list, activation_list, layer_output_list):  # defining back propagation algorithm to calculate gradient\n",
        "    r, c = np.shape(x)                              # of cost function with respect to each layer's weight and bias vector.\n",
        "    grad_b_list = []\n",
        "    grad_w_list = []\n",
        "\n",
        "    g = grad_J(y, layer_output_list[n_layer - 1], activation_list[n_layer-1], f_list[n_layer-1])\n",
        "\n",
        "    for k in range((n_layer-1), -1, -1):\n",
        "        grad_b = np.sum(g, axis = 1, keepdims = True)/c\n",
        "        grad_b_list.append(grad_b)\n",
        "\n",
        "        if(k >= 1):\n",
        "            grad_w = np.dot(g, layer_output_list[k-1].T)/c\n",
        "            grad_w_list.append(grad_w)\n",
        "        else:\n",
        "            grad_w = np.dot(g, x.T)/c\n",
        "            grad_w_list.append(grad_w)\n",
        "            break\n",
        "\n",
        "        g = np.dot(w_list[k].T , g)\n",
        "        g = g*(f_list[k-1](activation_list[k-1], diff = True))\n",
        "\n",
        "    grad_b_list = grad_b_list[ : : -1]\n",
        "    grad_w_list = grad_w_list[ : : -1]\n",
        "\n",
        "    return  grad_b_list,  grad_w_list   # returning gradients of cost function with respect to each layer's wight and bias vectors.\n",
        "\n",
        "\n",
        "def calculate_error(X, Y, n_layer, f_list, w_list, b_list):     # This function calculates the error on the entire precified dataset.\n",
        "    a, b = forward_prop(X.T, n_layer, f_list, w_list, b_list)\n",
        "    y_pred = b[n_layer - 1].T\n",
        "    error = cross_entropy(Y, y_pred)\n",
        "    return error\n",
        "\n",
        "\n",
        "def prediction(X, n_layer, f_list, w_list, b_list):        # This function computes the probability of being in each class.\n",
        "    a, b = forward_prop(X.T, n_layer, f_list, w_list, b_list)\n",
        "    y_pred = b[n_layer - 1].T\n",
        "    return y_pred\n",
        "\n",
        "\n",
        "def find_label(y):           # This function finds the predicted labels depending on above prediction.\n",
        "    r, c = np.shape(y)\n",
        "    labeled_y = np.zeros((r, c))\n",
        "    for i in range(r):\n",
        "        temp_max = np.max(y[i])\n",
        "        for j in range(c):\n",
        "            if(y[i][j] == temp_max):\n",
        "                labeled_y[i][j] = 1\n",
        "    return labeled_y\n",
        "\n",
        "\n",
        "def accu(y, labeled_y):     # This function calculates the accuracy between actual and predicted labels.\n",
        "    count = 0\n",
        "    for i in range(y.shape[0]):\n",
        "        if((y[i] == labeled_y[i]).all()):\n",
        "            count += 1\n",
        "\n",
        "    accuracy = count/y.shape[0]\n",
        "    return accuracy\n",
        "\n",
        "\n",
        "\n",
        "def Gradient_descent(X, Y, n_layer, f_list, w_list, b_list, learning_rate, nEpoch):  # This function optimizes the weight and bias vectors.\n",
        "    row, col = np.shape(X)\n",
        "    training_error = []\n",
        "\n",
        "\n",
        "    for epoch in range(nEpoch):\n",
        "        if(epoch % 10 == 0):\n",
        "            err = calculate_error(X, Y, n_layer, f_list, w_list, b_list)\n",
        "            y_train_pred = prediction(X, n_layer, f_list, w_list, b_list)\n",
        "            labeled_y_train = find_label(y_train_pred)\n",
        "            accurate = accu(Y, labeled_y_train)\n",
        "            print(f'At {epoch} -th iteration, training error: {err}, accuracy: {accurate}')\n",
        "            training_error.append(err)\n",
        "\n",
        "        grad_b_list = []\n",
        "        grad_w_list = []\n",
        "\n",
        "        for i in range(n_layer):\n",
        "            mat1 = np.zeros_like(w_list[i], dtype = float)\n",
        "            grad_w_list.append(mat1)\n",
        "\n",
        "            mat2 = np.zeros_like(b_list[i], dtype = float)\n",
        "            grad_b_list.append(mat2)\n",
        "\n",
        "\n",
        "        a, b = forward_prop(X.T, n_layer, f_list, w_list, b_list)     # calling forward propagation.\n",
        "        c, d = Back_prop(X.T, Y.T, n_layer, f_list, w_list, b_list, a, b)    # calling backward propagation.\n",
        "\n",
        "        for k in range(n_layer):\n",
        "            grad_b_list[k] = c[k]\n",
        "            grad_w_list[k] = d[k]\n",
        "\n",
        "        for n in range(n_layer):\n",
        "            b_list[n] -= learning_rate*grad_b_list[n]\n",
        "            w_list[n] -= learning_rate*grad_w_list[n]\n",
        "\n",
        "    return training_error, w_list, b_list   # returning training error , optimize weight and bias vectors of each layers'.\n",
        "\n",
        "\n",
        "def parameter_initialization(x, layer_sizes):   # This function initialize the each layers' weight and bias vectors.\n",
        "    length = len(x)\n",
        "    w_list1 = [np.random.randn(layer_sizes[0], length)/np.sqrt(length)]\n",
        "    w_list2 = [np.random.randn(next_layer, prev_layer)/np.sqrt(prev_layer) for prev_layer, next_layer in zip(layer_sizes[:-1], layer_sizes[1:])]\n",
        "    w_list = w_list1 + w_list2\n",
        "\n",
        "    b_list = [np.random.randn(layer, 1) for layer in layer_sizes]\n",
        "    return w_list, b_list\n",
        "\n"
      ],
      "metadata": {
        "id": "muCycVh0DRmZ"
      },
      "execution_count": null,
      "outputs": []
    },
    {
      "cell_type": "code",
      "source": [],
      "metadata": {
        "id": "DDvoYSOvPlqV"
      },
      "execution_count": null,
      "outputs": []
    },
    {
      "cell_type": "code",
      "source": [
        "data = tf.keras.datasets.mnist.load_data() # extracting data from keras library.\n",
        "type(data)"
      ],
      "metadata": {
        "colab": {
          "base_uri": "https://localhost:8080/"
        },
        "id": "dmPsA3e6PmMV",
        "outputId": "d23f4d8b-4204-4f4f-c5aa-498b42a6f048"
      },
      "execution_count": null,
      "outputs": [
        {
          "output_type": "execute_result",
          "data": {
            "text/plain": [
              "tuple"
            ]
          },
          "metadata": {},
          "execution_count": 37
        }
      ]
    },
    {
      "cell_type": "code",
      "source": [
        "(X_train, y_train), (X_test, y_test) = data   # dividing the entire dataset into train and test dataset.\n",
        "X_train[0].shape\n",
        "X_train.shape\n",
        "\n",
        "y_train.shape\n",
        "print('First five training y labels:')\n",
        "print(y_train[:5])\n"
      ],
      "metadata": {
        "colab": {
          "base_uri": "https://localhost:8080/"
        },
        "id": "pEekSoq4Pmrp",
        "outputId": "f00d09fe-60ac-4f44-d7d2-939f6f479eb5"
      },
      "execution_count": null,
      "outputs": [
        {
          "output_type": "stream",
          "name": "stdout",
          "text": [
            "First five training y labels:\n",
            "[5 0 4 1 9]\n"
          ]
        }
      ]
    },
    {
      "cell_type": "code",
      "source": [
        "X_train = X_train.reshape((X_train.shape[0], 28*28)).astype('float32') # flatten the 2d picture to one dimenional vector.\n",
        "X_test = X_test.reshape((X_test.shape[0], 28*28)).astype('float32')\n",
        "\n",
        "X_train = X_train/255      # scalling the flattening vector to overcome the overflow.\n",
        "X_test = X_test/255\n",
        "\n",
        "print('The training set looks like:')\n",
        "print(X_train)\n",
        "r, c = np.shape(X_train)\n",
        "print('The shape of training set is:')\n",
        "print(r, c)\n",
        "\n",
        "r1, c1 = np.shape(X_test)\n",
        "print('The shape of testing set is:')\n",
        "print(r1, c1)\n"
      ],
      "metadata": {
        "colab": {
          "base_uri": "https://localhost:8080/"
        },
        "id": "53QnEv2HPpKI",
        "outputId": "bb75ed6a-21ed-4291-8a15-3f5e12883e77"
      },
      "execution_count": null,
      "outputs": [
        {
          "output_type": "stream",
          "name": "stdout",
          "text": [
            "The training set looks like:\n",
            "[[0. 0. 0. ... 0. 0. 0.]\n",
            " [0. 0. 0. ... 0. 0. 0.]\n",
            " [0. 0. 0. ... 0. 0. 0.]\n",
            " ...\n",
            " [0. 0. 0. ... 0. 0. 0.]\n",
            " [0. 0. 0. ... 0. 0. 0.]\n",
            " [0. 0. 0. ... 0. 0. 0.]]\n",
            "The shape of training set is:\n",
            "60000 784\n",
            "The shape of testing set is:\n",
            "10000 784\n"
          ]
        }
      ]
    },
    {
      "cell_type": "code",
      "source": [
        "# label vector i.e. y contains 10 categorical values. Therefore, we have to do one hot encoding of y vector.\n",
        "\n",
        "y_train = pd.get_dummies(y_train, dtype = int)\n",
        "y_train = y_train.values\n",
        "print('The traing label is:')\n",
        "print(y_train)\n",
        "r2, c2 = np.shape(y_train)\n",
        "print('The shape of training label is:')\n",
        "print(r2, c2)\n",
        "\n",
        "y_test = pd.get_dummies(y_test, dtype = int)\n",
        "y_test = y_test.values\n",
        "print('The test label is:')\n",
        "print(y_test)\n",
        "r3, c3 = np.shape(y_test)\n",
        "print('The shape of test label is:')\n",
        "print(r3, c3)\n"
      ],
      "metadata": {
        "colab": {
          "base_uri": "https://localhost:8080/"
        },
        "id": "VbEmRwDmPpAi",
        "outputId": "5e60f52a-8bfa-4631-c6dc-b5acf055ab33"
      },
      "execution_count": null,
      "outputs": [
        {
          "output_type": "stream",
          "name": "stdout",
          "text": [
            "The traing label is:\n",
            "[[0 0 0 ... 0 0 0]\n",
            " [1 0 0 ... 0 0 0]\n",
            " [0 0 0 ... 0 0 0]\n",
            " ...\n",
            " [0 0 0 ... 0 0 0]\n",
            " [0 0 0 ... 0 0 0]\n",
            " [0 0 0 ... 0 1 0]]\n",
            "The shape of training label is:\n",
            "60000 10\n",
            "The test label is:\n",
            "[[0 0 0 ... 1 0 0]\n",
            " [0 0 1 ... 0 0 0]\n",
            " [0 1 0 ... 0 0 0]\n",
            " ...\n",
            " [0 0 0 ... 0 0 0]\n",
            " [0 0 0 ... 0 0 0]\n",
            " [0 0 0 ... 0 0 0]]\n",
            "The shape of test label is:\n",
            "10000 10\n"
          ]
        }
      ]
    },
    {
      "cell_type": "markdown",
      "source": [
        "# The number of layers in the neural network is 2. The first layer i.e. hidden  layer contains ReLU activation function of size 10. And the second layer i.e. output layer contains softmax function of size 10."
      ],
      "metadata": {
        "id": "KNPBRdRIn3n3"
      }
    },
    {
      "cell_type": "code",
      "source": [
        "n_layer = 2\n",
        "layer_sizes = [10, 10]\n",
        "w_list, b_list = parameter_initialization(X_train[0], layer_sizes)\n",
        "\n",
        "f_list = [Relu, softmax]\n",
        "\n",
        "#calling the Gradient Descent algorithm to compute optimal weight vectors.\n",
        "err, list_w, list_b = Gradient_descent(X_train, y_train, n_layer, f_list, w_list, b_list, learning_rate = 0.1, nEpoch = 500)\n",
        "\n"
      ],
      "metadata": {
        "colab": {
          "base_uri": "https://localhost:8080/"
        },
        "id": "upQWac9UPo3X",
        "outputId": "c1a09c92-99e8-4fd9-fea6-f9ad2718e1bd"
      },
      "execution_count": null,
      "outputs": [
        {
          "output_type": "stream",
          "name": "stdout",
          "text": [
            "At 0 -th iteration, training error: 3.3973057096555093, accuracy: 0.0993\n",
            "At 10 -th iteration, training error: 2.33108966900554, accuracy: 0.22676666666666667\n",
            "At 20 -th iteration, training error: 1.957508703777053, accuracy: 0.3405666666666667\n",
            "At 30 -th iteration, training error: 1.7397479769495445, accuracy: 0.40603333333333336\n",
            "At 40 -th iteration, training error: 1.581039549418456, accuracy: 0.47428333333333333\n",
            "At 50 -th iteration, training error: 1.4416876379895756, accuracy: 0.5366\n",
            "At 60 -th iteration, training error: 1.3092940503349428, accuracy: 0.5925333333333334\n",
            "At 70 -th iteration, training error: 1.191917627657881, accuracy: 0.6366333333333334\n",
            "At 80 -th iteration, training error: 1.0972040336030848, accuracy: 0.6736166666666666\n",
            "At 90 -th iteration, training error: 1.0200750740703812, accuracy: 0.7002166666666667\n",
            "At 100 -th iteration, training error: 0.956676564627257, accuracy: 0.72065\n",
            "At 110 -th iteration, training error: 0.9039973782766992, accuracy: 0.7371\n",
            "At 120 -th iteration, training error: 0.8597728943888518, accuracy: 0.7509666666666667\n",
            "At 130 -th iteration, training error: 0.8222112627287864, accuracy: 0.7625833333333333\n",
            "At 140 -th iteration, training error: 0.7899368036314225, accuracy: 0.7725166666666666\n",
            "At 150 -th iteration, training error: 0.7619112343433755, accuracy: 0.7815166666666666\n",
            "At 160 -th iteration, training error: 0.7373887447333959, accuracy: 0.7886666666666666\n",
            "At 170 -th iteration, training error: 0.7157576107790904, accuracy: 0.7953666666666667\n",
            "At 180 -th iteration, training error: 0.6965558796548361, accuracy: 0.8011166666666667\n",
            "At 190 -th iteration, training error: 0.679406413079161, accuracy: 0.8064\n",
            "At 200 -th iteration, training error: 0.6639783397678488, accuracy: 0.8103166666666667\n",
            "At 210 -th iteration, training error: 0.6500001923275892, accuracy: 0.8139166666666666\n",
            "At 220 -th iteration, training error: 0.6372645592092615, accuracy: 0.81745\n",
            "At 230 -th iteration, training error: 0.6255789387773711, accuracy: 0.82105\n",
            "At 240 -th iteration, training error: 0.614796689771173, accuracy: 0.8242333333333334\n",
            "At 250 -th iteration, training error: 0.6047906615367762, accuracy: 0.8273666666666667\n",
            "At 260 -th iteration, training error: 0.5954389553485625, accuracy: 0.8298\n",
            "At 270 -th iteration, training error: 0.5866419873881166, accuracy: 0.8325166666666667\n",
            "At 280 -th iteration, training error: 0.5783263577604391, accuracy: 0.8343666666666667\n",
            "At 290 -th iteration, training error: 0.5704271627732047, accuracy: 0.83665\n",
            "At 300 -th iteration, training error: 0.562898951398845, accuracy: 0.8384666666666667\n",
            "At 310 -th iteration, training error: 0.5557031540995905, accuracy: 0.8405\n",
            "At 320 -th iteration, training error: 0.5488096428880496, accuracy: 0.84245\n",
            "At 330 -th iteration, training error: 0.5421959427638434, accuracy: 0.84435\n",
            "At 340 -th iteration, training error: 0.5358390828265827, accuracy: 0.8466166666666667\n",
            "At 350 -th iteration, training error: 0.5297260661792759, accuracy: 0.84855\n",
            "At 360 -th iteration, training error: 0.5238535468769148, accuracy: 0.8503833333333334\n",
            "At 370 -th iteration, training error: 0.5182084064887778, accuracy: 0.8521666666666666\n",
            "At 380 -th iteration, training error: 0.5127725059954125, accuracy: 0.8539833333333333\n",
            "At 390 -th iteration, training error: 0.5075420143399024, accuracy: 0.8552666666666666\n",
            "At 400 -th iteration, training error: 0.5025142753192329, accuracy: 0.8569833333333333\n",
            "At 410 -th iteration, training error: 0.49767974864298453, accuracy: 0.8586666666666667\n",
            "At 420 -th iteration, training error: 0.49303346224209565, accuracy: 0.8601\n",
            "At 430 -th iteration, training error: 0.4885716438740211, accuracy: 0.8611833333333333\n",
            "At 440 -th iteration, training error: 0.4842816323617603, accuracy: 0.8623166666666666\n",
            "At 450 -th iteration, training error: 0.4801581913287382, accuracy: 0.8637166666666667\n",
            "At 460 -th iteration, training error: 0.47619435655994863, accuracy: 0.865\n",
            "At 470 -th iteration, training error: 0.4723817813611544, accuracy: 0.8658166666666667\n",
            "At 480 -th iteration, training error: 0.46871547917120776, accuracy: 0.867\n",
            "At 490 -th iteration, training error: 0.46518416118164113, accuracy: 0.8682333333333333\n"
          ]
        }
      ]
    },
    {
      "cell_type": "code",
      "source": [
        "n_iteration1 = len(err)  # array of costs .\n",
        "n_iteration1 = list(i*10 for i in range(1, n_iteration1+1))\n",
        "\n",
        "plt.plot(n_iteration1, err, color = 'red', label = 'loss curve')\n",
        "plt.xlabel('iteration')\n",
        "plt.ylabel('loss')\n",
        "plt.title('loss vs iteration at gradient descent algorithm.')\n",
        "plt.legend(loc = 'upper right')\n",
        "plt.show()\n"
      ],
      "metadata": {
        "colab": {
          "base_uri": "https://localhost:8080/",
          "height": 472
        },
        "id": "_J2uwNhotJrs",
        "outputId": "e2e88b43-4d29-459a-f738-91295caa891b"
      },
      "execution_count": null,
      "outputs": [
        {
          "output_type": "display_data",
          "data": {
            "text/plain": [
              "<Figure size 640x480 with 1 Axes>"
            ],
            "image/png": "[encoded data removed]"
          },
          "metadata": {}
        }
      ]
    },
    {
      "cell_type": "code",
      "source": [
        "# predicting probabilities of being in different classes  with the optimal weight vectors.\n",
        "# This is for training dataset.\n",
        "y_train_pred = prediction(X_train, n_layer, f_list, list_w, list_b)   # calling prediction function to compute prediction on training dataset.\n",
        "print(f'The sum of the probabilities of being in different classes of a data sample is: {np.sum(y_train_pred[0])}')\n",
        "print('The prediction of probabilities of being in different classes of each data sample is:')\n",
        "print(y_train_pred)"
      ],
      "metadata": {
        "colab": {
          "base_uri": "https://localhost:8080/"
        },
        "id": "htM0rX46PovI",
        "outputId": "a59fe7fe-7092-4bfb-fba4-45c921b23855"
      },
      "execution_count": null,
      "outputs": [
        {
          "output_type": "stream",
          "name": "stdout",
          "text": [
            "The sum of the probabilities of being in different classes of a data sample is: 1.0000000000000002\n",
            "The prediction of probabilities of being in different classes of each data sample is:\n",
            "[[9.40596184e-02 7.75657275e-04 2.27260758e-02 ... 4.92881921e-03\n",
            "  1.67940176e-01 1.53348229e-02]\n",
            " [9.97372980e-01 1.09757281e-07 5.17884451e-05 ... 3.87923998e-06\n",
            "  7.46765394e-06 2.56920945e-05]\n",
            " [6.72425644e-03 2.30685632e-04 1.76257269e-02 ... 1.59938854e-03\n",
            "  1.10421892e-02 3.07041028e-01]\n",
            " ...\n",
            " [1.72113660e-03 1.83489342e-05 1.01209541e-06 ... 2.91954547e-04\n",
            "  9.96419471e-02 2.98160068e-02]\n",
            " [4.83635437e-02 3.78618477e-04 4.60281950e-02 ... 3.32328003e-04\n",
            "  7.09174373e-03 5.93843609e-02]\n",
            " [3.28765605e-02 4.80377645e-03 2.37923438e-02 ... 1.13478218e-02\n",
            "  3.17505342e-01 1.03423207e-01]]\n"
          ]
        }
      ]
    },
    {
      "cell_type": "code",
      "source": [
        "# finding label based on predicted value.\n",
        "\n",
        "labeled_y_train = find_label(y_train_pred)    # calling find_label function to find corresponding label.\n",
        "print(f'The predicted label for training dataset is:')\n",
        "print(labeled_y_train)"
      ],
      "metadata": {
        "colab": {
          "base_uri": "https://localhost:8080/"
        },
        "id": "2TIXBVgqb136",
        "outputId": "c76ced35-0059-43a6-9334-d88c4c435e65"
      },
      "execution_count": null,
      "outputs": [
        {
          "output_type": "stream",
          "name": "stdout",
          "text": [
            "The predicted label for training dataset is:\n",
            "[[0. 0. 0. ... 0. 0. 0.]\n",
            " [1. 0. 0. ... 0. 0. 0.]\n",
            " [0. 0. 0. ... 0. 0. 0.]\n",
            " ...\n",
            " [0. 0. 0. ... 0. 0. 0.]\n",
            " [0. 0. 0. ... 0. 0. 0.]\n",
            " [0. 0. 0. ... 0. 1. 0.]]\n"
          ]
        }
      ]
    },
    {
      "cell_type": "code",
      "source": [
        "#printing the actual label of training dataset.\n",
        "\n",
        "print('The actual label of training dataset:')\n",
        "print(y_train)"
      ],
      "metadata": {
        "colab": {
          "base_uri": "https://localhost:8080/"
        },
        "id": "E9x8jf4Gb1sp",
        "outputId": "2ffdaee7-3351-487d-cf16-9744dc39c910"
      },
      "execution_count": null,
      "outputs": [
        {
          "output_type": "stream",
          "name": "stdout",
          "text": [
            "The actual label of training dataset:\n",
            "[[0 0 0 ... 0 0 0]\n",
            " [1 0 0 ... 0 0 0]\n",
            " [0 0 0 ... 0 0 0]\n",
            " ...\n",
            " [0 0 0 ... 0 0 0]\n",
            " [0 0 0 ... 0 0 0]\n",
            " [0 0 0 ... 0 1 0]]\n"
          ]
        }
      ]
    },
    {
      "cell_type": "code",
      "source": [
        "accurate1 = accu(y_train, labeled_y_train)   # calling accuracy function to compute accuracy\n",
        "print(f'The training accuracy is: {accurate1}')      # predicted label and actual lebel.\n"
      ],
      "metadata": {
        "colab": {
          "base_uri": "https://localhost:8080/"
        },
        "id": "ZRpIKi92b1gw",
        "outputId": "2b2b7a1f-1f22-4621-e566-1a7f64629ddb"
      },
      "execution_count": null,
      "outputs": [
        {
          "output_type": "stream",
          "name": "stdout",
          "text": [
            "The training accuracy is: 0.8689\n"
          ]
        }
      ]
    },
    {
      "cell_type": "code",
      "source": [
        "# predicting probabilities of being in different classes  with the optimal weight vectors.\n",
        "# This is for testing dataset.\n",
        "\n",
        "y_pred = prediction(X_test, n_layer, f_list, list_w, list_b)  # calling prediction function to compute prediction on testing dataset.\n",
        "print(f'The sum of the probabilities of being in different classes of a data sample is: {np.sum(y_pred[0])}')\n",
        "print('The prediction of probabilities of being in different classes of each data sample is:')\n",
        "print(y_pred)\n"
      ],
      "metadata": {
        "colab": {
          "base_uri": "https://localhost:8080/"
        },
        "id": "RflMVEZtb1Vi",
        "outputId": "8144d6ea-4cf0-4f06-86dc-c735bfadb5f2"
      },
      "execution_count": null,
      "outputs": [
        {
          "output_type": "stream",
          "name": "stdout",
          "text": [
            "The sum of the probabilities of being in different classes of a data sample is: 0.9999999999999999\n",
            "The prediction of probabilities of being in different classes of each data sample is:\n",
            "[[4.29081271e-04 1.78012832e-06 4.86078218e-05 ... 9.73059546e-01\n",
            "  1.84421675e-05 2.50369055e-02]\n",
            " [1.34470483e-03 1.08983946e-04 9.86507062e-01 ... 1.02668307e-07\n",
            "  1.46807899e-03 3.35090273e-06]\n",
            " [3.36899229e-04 9.56489971e-01 2.41688768e-02 ... 3.85168799e-03\n",
            "  8.59034940e-03 2.73461228e-04]\n",
            " ...\n",
            " [2.41303540e-06 4.89103470e-07 8.26143725e-07 ... 4.07015869e-04\n",
            "  2.14992609e-02 1.18534322e-01]\n",
            " [1.51764132e-03 5.81723185e-03 6.27449638e-05 ... 3.12688046e-05\n",
            "  2.59322718e-01 9.25373266e-04]\n",
            " [7.51135933e-05 1.56294520e-05 2.72170925e-02 ... 1.89430676e-07\n",
            "  2.87980887e-03 5.69128119e-05]]\n"
          ]
        }
      ]
    },
    {
      "cell_type": "code",
      "source": [
        "# finding label based on predicted value.\n",
        "\n",
        "labeled_y = find_label(y_pred)    # calling find_label function to find corresponding label.\n",
        "print(f'The predicted label for training dataset is:')\n",
        "print(labeled_y)\n"
      ],
      "metadata": {
        "colab": {
          "base_uri": "https://localhost:8080/"
        },
        "id": "KTQ37KSyb1Ja",
        "outputId": "30142d4f-808a-486c-ddc2-bd6f1b41582c"
      },
      "execution_count": null,
      "outputs": [
        {
          "output_type": "stream",
          "name": "stdout",
          "text": [
            "The predicted label for training dataset is:\n",
            "[[0. 0. 0. ... 1. 0. 0.]\n",
            " [0. 0. 1. ... 0. 0. 0.]\n",
            " [0. 1. 0. ... 0. 0. 0.]\n",
            " ...\n",
            " [0. 0. 0. ... 0. 0. 0.]\n",
            " [0. 0. 0. ... 0. 0. 0.]\n",
            " [0. 0. 0. ... 0. 0. 0.]]\n"
          ]
        }
      ]
    },
    {
      "cell_type": "code",
      "source": [
        "#printing the actual label of testing dataset.\n",
        "\n",
        "print('The actual label of testing dataset:')\n",
        "print(y_test)\n"
      ],
      "metadata": {
        "colab": {
          "base_uri": "https://localhost:8080/"
        },
        "id": "ekKO-esSb06i",
        "outputId": "1fb8c8c2-0cfd-451e-e762-7066c1e8ef21"
      },
      "execution_count": null,
      "outputs": [
        {
          "output_type": "stream",
          "name": "stdout",
          "text": [
            "The actual label of testing dataset:\n",
            "[[0 0 0 ... 1 0 0]\n",
            " [0 0 1 ... 0 0 0]\n",
            " [0 1 0 ... 0 0 0]\n",
            " ...\n",
            " [0 0 0 ... 0 0 0]\n",
            " [0 0 0 ... 0 0 0]\n",
            " [0 0 0 ... 0 0 0]]\n"
          ]
        }
      ]
    },
    {
      "cell_type": "code",
      "source": [
        "accurate = accu(y_test, labeled_y)           # calling accuracy function to compute accuracy\n",
        "print(f'The testing accuracy is: {accurate}')      # predicted label and actual lebel.\n"
      ],
      "metadata": {
        "colab": {
          "base_uri": "https://localhost:8080/"
        },
        "id": "2sntj6ioPojn",
        "outputId": "893dedff-39e7-4b72-d22c-168ee3182cf6"
      },
      "execution_count": null,
      "outputs": [
        {
          "output_type": "stream",
          "name": "stdout",
          "text": [
            "The testing accuracy is: 0.8684\n"
          ]
        }
      ]
    },
    {
      "cell_type": "code",
      "source": [],
      "metadata": {
        "id": "ZZmcbuLRPoVl"
      },
      "execution_count": null,
      "outputs": []
    },
    {
      "cell_type": "markdown",
      "source": [
        "# The number of layers in the neural network is 3. The first and second layer i.e. hidden layers contain ReLU activation function of size 20 and 10 respectively. And the third layer i.e. output layer contains softmax function of size 10."
      ],
      "metadata": {
        "id": "iiomq9B8frKM"
      }
    },
    {
      "cell_type": "code",
      "source": [
        "n_layer = 3\n",
        "layer_sizes = [20, 10, 10]\n",
        "w_list, b_list = parameter_initialization(X_train[0], layer_sizes)\n",
        "\n",
        "f_list = [Relu, Relu, softmax]\n",
        "\n",
        "#calling the Gradient Descent algorithm to compute optimal weight vectors.\n",
        "err, list_w, list_b = Gradient_descent(X_train, y_train, n_layer, f_list, w_list, b_list, learning_rate = 0.1, nEpoch = 1000)"
      ],
      "metadata": {
        "colab": {
          "base_uri": "https://localhost:8080/"
        },
        "id": "lhUs41CGfqBX",
        "outputId": "be9a55a5-f9ac-442d-8f17-e44ff60fa8c6"
      },
      "execution_count": null,
      "outputs": [
        {
          "output_type": "stream",
          "name": "stdout",
          "text": [
            "At 0 -th iteration, training error: 2.9524093478865576, accuracy: 0.10363333333333333\n",
            "At 10 -th iteration, training error: 2.3941993875020184, accuracy: 0.25361666666666666\n",
            "At 20 -th iteration, training error: 1.9413323685925277, accuracy: 0.3891833333333333\n",
            "At 30 -th iteration, training error: 1.5938820801418603, accuracy: 0.56025\n",
            "At 40 -th iteration, training error: 1.3537449296907538, accuracy: 0.6186833333333334\n",
            "At 50 -th iteration, training error: 1.163142414642725, accuracy: 0.6617\n",
            "At 60 -th iteration, training error: 1.0148166218946282, accuracy: 0.6979833333333333\n",
            "At 70 -th iteration, training error: 0.9013894920785067, accuracy: 0.7300833333333333\n",
            "At 80 -th iteration, training error: 0.8153753310692803, accuracy: 0.75565\n",
            "At 90 -th iteration, training error: 0.7486094713286935, accuracy: 0.77565\n",
            "At 100 -th iteration, training error: 0.6962837897251575, accuracy: 0.7916\n",
            "At 110 -th iteration, training error: 0.6548455838262129, accuracy: 0.8040333333333334\n",
            "At 120 -th iteration, training error: 0.6213440648554185, accuracy: 0.8141166666666667\n",
            "At 130 -th iteration, training error: 0.5937017635304023, accuracy: 0.8229333333333333\n",
            "At 140 -th iteration, training error: 0.57040560454806, accuracy: 0.831\n",
            "At 150 -th iteration, training error: 0.5504193703654272, accuracy: 0.8374333333333334\n",
            "At 160 -th iteration, training error: 0.5331119364477599, accuracy: 0.8435666666666667\n",
            "At 170 -th iteration, training error: 0.5196027947977813, accuracy: 0.84835\n",
            "At 180 -th iteration, training error: 0.5324672329992043, accuracy: 0.8410666666666666\n",
            "At 190 -th iteration, training error: 0.6242620112961748, accuracy: 0.7975166666666667\n",
            "At 200 -th iteration, training error: 0.4887432892686249, accuracy: 0.8582666666666666\n",
            "At 210 -th iteration, training error: 0.4710941347263858, accuracy: 0.8649666666666667\n",
            "At 220 -th iteration, training error: 0.4611902925449315, accuracy: 0.8682666666666666\n",
            "At 230 -th iteration, training error: 0.45235851986044634, accuracy: 0.8712333333333333\n",
            "At 240 -th iteration, training error: 0.4442314066974211, accuracy: 0.8736166666666667\n",
            "At 250 -th iteration, training error: 0.4367033490211004, accuracy: 0.8756666666666667\n",
            "At 260 -th iteration, training error: 0.42971196287825925, accuracy: 0.8778333333333334\n",
            "At 270 -th iteration, training error: 0.42319997222781774, accuracy: 0.8796\n",
            "At 280 -th iteration, training error: 0.4171029489709355, accuracy: 0.8814833333333333\n",
            "At 290 -th iteration, training error: 0.41140836586847834, accuracy: 0.8833\n",
            "At 300 -th iteration, training error: 0.4060588556039149, accuracy: 0.8846833333333334\n",
            "At 310 -th iteration, training error: 0.40102446473116576, accuracy: 0.8865\n",
            "At 320 -th iteration, training error: 0.39627769546726704, accuracy: 0.8879833333333333\n",
            "At 330 -th iteration, training error: 0.391799164229723, accuracy: 0.8896833333333334\n",
            "At 340 -th iteration, training error: 0.3875579031077228, accuracy: 0.8908666666666667\n",
            "At 350 -th iteration, training error: 0.3835351116511867, accuracy: 0.89205\n",
            "At 360 -th iteration, training error: 0.37971011322977083, accuracy: 0.8929833333333334\n",
            "At 370 -th iteration, training error: 0.3760699298328525, accuracy: 0.894\n",
            "At 380 -th iteration, training error: 0.37260541782589945, accuracy: 0.8947833333333334\n",
            "At 390 -th iteration, training error: 0.36929964932503073, accuracy: 0.89585\n",
            "At 400 -th iteration, training error: 0.36613702733373105, accuracy: 0.8968\n",
            "At 410 -th iteration, training error: 0.36310708617234194, accuracy: 0.8974166666666666\n",
            "At 420 -th iteration, training error: 0.36019869332047655, accuracy: 0.8979666666666667\n",
            "At 430 -th iteration, training error: 0.35740789511862486, accuracy: 0.8987\n",
            "At 440 -th iteration, training error: 0.35472323248556514, accuracy: 0.8996166666666666\n",
            "At 450 -th iteration, training error: 0.3521340343887855, accuracy: 0.9005166666666666\n",
            "At 460 -th iteration, training error: 0.34963417040267325, accuracy: 0.9010666666666667\n",
            "At 470 -th iteration, training error: 0.3472203324643756, accuracy: 0.90145\n",
            "At 480 -th iteration, training error: 0.3448935101045537, accuracy: 0.9021666666666667\n",
            "At 490 -th iteration, training error: 0.3426416514084948, accuracy: 0.9027\n",
            "At 500 -th iteration, training error: 0.34046630056911714, accuracy: 0.9033\n",
            "At 510 -th iteration, training error: 0.33836476980385594, accuracy: 0.9038\n",
            "At 520 -th iteration, training error: 0.33633293548049636, accuracy: 0.9043333333333333\n",
            "At 530 -th iteration, training error: 0.33436371787786123, accuracy: 0.9049833333333334\n",
            "At 540 -th iteration, training error: 0.3324509574687004, accuracy: 0.90535\n",
            "At 550 -th iteration, training error: 0.33058512946789675, accuracy: 0.9058333333333334\n",
            "At 560 -th iteration, training error: 0.32876685820411244, accuracy: 0.9063\n",
            "At 570 -th iteration, training error: 0.3269904135763365, accuracy: 0.9067833333333334\n",
            "At 580 -th iteration, training error: 0.32524822508751683, accuracy: 0.9073333333333333\n",
            "At 590 -th iteration, training error: 0.32354688490057604, accuracy: 0.90785\n",
            "At 600 -th iteration, training error: 0.32188482576672545, accuracy: 0.9080833333333334\n",
            "At 610 -th iteration, training error: 0.3202505650341886, accuracy: 0.9084833333333333\n",
            "At 620 -th iteration, training error: 0.3186386137984966, accuracy: 0.9089\n",
            "At 630 -th iteration, training error: 0.3170536258825192, accuracy: 0.9095333333333333\n",
            "At 640 -th iteration, training error: 0.3154971160397306, accuracy: 0.9099666666666667\n",
            "At 650 -th iteration, training error: 0.3139611766250332, accuracy: 0.91045\n",
            "At 660 -th iteration, training error: 0.31244766708703803, accuracy: 0.911\n",
            "At 670 -th iteration, training error: 0.31096925371676537, accuracy: 0.9114333333333333\n",
            "At 680 -th iteration, training error: 0.3095250864723015, accuracy: 0.9118166666666667\n",
            "At 690 -th iteration, training error: 0.30810424948012005, accuracy: 0.912\n",
            "At 700 -th iteration, training error: 0.30668903939380215, accuracy: 0.9123666666666667\n",
            "At 710 -th iteration, training error: 0.30529021876508794, accuracy: 0.9128166666666667\n",
            "At 720 -th iteration, training error: 0.3039136515250747, accuracy: 0.91315\n",
            "At 730 -th iteration, training error: 0.3025598879004344, accuracy: 0.9136333333333333\n",
            "At 740 -th iteration, training error: 0.3012247934005772, accuracy: 0.9141666666666667\n",
            "At 750 -th iteration, training error: 0.2999094265640499, accuracy: 0.9145166666666666\n",
            "At 760 -th iteration, training error: 0.2986170278246729, accuracy: 0.9149833333333334\n",
            "At 770 -th iteration, training error: 0.29734430785673793, accuracy: 0.9152666666666667\n",
            "At 780 -th iteration, training error: 0.2960837046499789, accuracy: 0.9156333333333333\n",
            "At 790 -th iteration, training error: 0.2948356383945983, accuracy: 0.9160666666666667\n",
            "At 800 -th iteration, training error: 0.29360573707192833, accuracy: 0.9165\n",
            "At 810 -th iteration, training error: 0.2923871010869079, accuracy: 0.9169\n",
            "At 820 -th iteration, training error: 0.2911821184187253, accuracy: 0.9173666666666667\n",
            "At 830 -th iteration, training error: 0.28999320077909496, accuracy: 0.9175833333333333\n",
            "At 840 -th iteration, training error: 0.28882232938239183, accuracy: 0.9179\n",
            "At 850 -th iteration, training error: 0.28765951085549285, accuracy: 0.9182166666666667\n",
            "At 860 -th iteration, training error: 0.2865096725304658, accuracy: 0.9184666666666667\n",
            "At 870 -th iteration, training error: 0.2853636405002514, accuracy: 0.9188166666666666\n",
            "At 880 -th iteration, training error: 0.28423069561660225, accuracy: 0.9190666666666667\n",
            "At 890 -th iteration, training error: 0.28310933808514194, accuracy: 0.9193833333333333\n",
            "At 900 -th iteration, training error: 0.2820102163622589, accuracy: 0.9196666666666666\n",
            "At 910 -th iteration, training error: 0.2809240694873433, accuracy: 0.9200666666666667\n",
            "At 920 -th iteration, training error: 0.2798570405255415, accuracy: 0.9204\n",
            "At 930 -th iteration, training error: 0.2788044387540626, accuracy: 0.9208\n",
            "At 940 -th iteration, training error: 0.2777727462702556, accuracy: 0.9211833333333334\n",
            "At 950 -th iteration, training error: 0.276751528284503, accuracy: 0.9215333333333333\n",
            "At 960 -th iteration, training error: 0.275742953719361, accuracy: 0.9217\n",
            "At 970 -th iteration, training error: 0.274747535298215, accuracy: 0.9217833333333333\n",
            "At 980 -th iteration, training error: 0.27376768009783975, accuracy: 0.9220166666666667\n",
            "At 990 -th iteration, training error: 0.2728055628598507, accuracy: 0.9221833333333334\n"
          ]
        }
      ]
    },
    {
      "cell_type": "code",
      "source": [
        "n_iteration1 = len(err)  # array of costs .\n",
        "n_iteration1 = list(i*10 for i in range(1, n_iteration1+1))\n",
        "\n",
        "plt.plot(n_iteration1, err, color = 'red', label = 'loss curve')\n",
        "plt.xlabel('iteration')\n",
        "plt.ylabel('loss')\n",
        "plt.title('loss vs iteration at gradient descent algorithm.')\n",
        "plt.legend(loc = 'upper right')\n",
        "plt.show()\n"
      ],
      "metadata": {
        "colab": {
          "base_uri": "https://localhost:8080/",
          "height": 472
        },
        "id": "Z6V2jEILsb-J",
        "outputId": "a5211f4c-f220-4516-e876-4dccd1f48b2b"
      },
      "execution_count": null,
      "outputs": [
        {
          "output_type": "display_data",
          "data": {
            "text/plain": [
              "<Figure size 640x480 with 1 Axes>"
            ],
            "image/png": "[encoded data removed]"
          },
          "metadata": {}
        }
      ]
    },
    {
      "cell_type": "code",
      "source": [
        "# predicting probabilities of being in different classes  with the optimal weight vectors.\n",
        "# This is for training dataset.\n",
        "y_train_pred = prediction(X_train, n_layer, f_list, list_w, list_b)   # calling prediction function to compute prediction on training dataset.\n",
        "print(f'The sum of the probabilities of being in different classes of a data sample is: {np.sum(y_train_pred[0])}')\n",
        "print('The prediction of probabilities of being in different classes of each data sample is:')\n",
        "print(y_train_pred)\n"
      ],
      "metadata": {
        "colab": {
          "base_uri": "https://localhost:8080/"
        },
        "id": "_uK7WT5Yfp5k",
        "outputId": "ad5c0e57-3e47-4753-c357-2d4f9379d30f"
      },
      "execution_count": null,
      "outputs": [
        {
          "output_type": "stream",
          "name": "stdout",
          "text": [
            "The sum of the probabilities of being in different classes of a data sample is: 1.0000000000000002\n",
            "The prediction of probabilities of being in different classes of each data sample is:\n",
            "[[3.81325339e-03 6.29365113e-07 1.03452167e-03 ... 4.05507392e-04\n",
            "  1.37744309e-03 1.16463444e-04]\n",
            " [9.99364707e-01 1.00254332e-12 2.50307724e-04 ... 1.35268444e-06\n",
            "  7.13190995e-06 7.13035813e-06]\n",
            " [1.56361110e-04 9.15797130e-05 2.10528865e-03 ... 2.49660088e-02\n",
            "  1.37276477e-03 6.52603501e-02]\n",
            " ...\n",
            " [5.15195800e-05 2.13383645e-06 3.05984248e-06 ... 2.18188198e-05\n",
            "  2.85666043e-03 9.65828559e-04]\n",
            " [2.27187998e-02 5.33019961e-08 1.26234372e-02 ... 5.26712003e-04\n",
            "  2.14902581e-04 3.05100858e-03]\n",
            " [1.07175516e-01 2.19465532e-05 1.22541772e-02 ... 1.77762330e-04\n",
            "  8.36973006e-01 1.31209607e-02]]\n"
          ]
        }
      ]
    },
    {
      "cell_type": "code",
      "source": [
        "# finding label based on predicted value.\n",
        "\n",
        "labeled_y_train = find_label(y_train_pred)    # calling find_label function to find corresponding label.\n",
        "print(f'The predicted label for training dataset is:')\n",
        "print(labeled_y_train)\n"
      ],
      "metadata": {
        "colab": {
          "base_uri": "https://localhost:8080/"
        },
        "id": "7Sw_KQLKfpy2",
        "outputId": "2ffc8edc-9ec1-4ff3-a2c2-5ea47539581e"
      },
      "execution_count": null,
      "outputs": [
        {
          "output_type": "stream",
          "name": "stdout",
          "text": [
            "The predicted label for training dataset is:\n",
            "[[0. 0. 0. ... 0. 0. 0.]\n",
            " [1. 0. 0. ... 0. 0. 0.]\n",
            " [0. 0. 0. ... 0. 0. 0.]\n",
            " ...\n",
            " [0. 0. 0. ... 0. 0. 0.]\n",
            " [0. 0. 0. ... 0. 0. 0.]\n",
            " [0. 0. 0. ... 0. 1. 0.]]\n"
          ]
        }
      ]
    },
    {
      "cell_type": "code",
      "source": [
        "#printing the actual label of training dataset.\n",
        "\n",
        "print('The actual label of training dataset:')\n",
        "print(y_train)\n"
      ],
      "metadata": {
        "colab": {
          "base_uri": "https://localhost:8080/"
        },
        "id": "VANr9LDQfptZ",
        "outputId": "e92de5fd-1cf7-4fd2-8865-7625f73ce7fa"
      },
      "execution_count": null,
      "outputs": [
        {
          "output_type": "stream",
          "name": "stdout",
          "text": [
            "The actual label of training dataset:\n",
            "[[0 0 0 ... 0 0 0]\n",
            " [1 0 0 ... 0 0 0]\n",
            " [0 0 0 ... 0 0 0]\n",
            " ...\n",
            " [0 0 0 ... 0 0 0]\n",
            " [0 0 0 ... 0 0 0]\n",
            " [0 0 0 ... 0 1 0]]\n"
          ]
        }
      ]
    },
    {
      "cell_type": "code",
      "source": [
        "accurate1 = accu(y_train, labeled_y_train)   # calling accuracy function to compute accuracy\n",
        "print(f'The training accuracy is: {accurate1}')      # predicted label and actual lebel.\n"
      ],
      "metadata": {
        "colab": {
          "base_uri": "https://localhost:8080/"
        },
        "id": "_CI2R5njfpnb",
        "outputId": "f27422b2-8009-46aa-f300-b25ec4627cfe"
      },
      "execution_count": null,
      "outputs": [
        {
          "output_type": "stream",
          "name": "stdout",
          "text": [
            "The training accuracy is: 0.9225\n"
          ]
        }
      ]
    },
    {
      "cell_type": "code",
      "source": [
        "# predicting probabilities of being in different classes  with the optimal weight vectors.\n",
        "# This is for testing dataset.\n",
        "\n",
        "y_pred = prediction(X_test, n_layer, f_list, list_w, list_b)  # calling prediction function to compute prediction on testing dataset.\n",
        "print(f'The sum of the probabilities of being in different classes of a data sample is: {np.sum(y_pred[0])}')\n",
        "print('The prediction of probabilities of being in different classes of each data sample is:')\n",
        "print(y_pred)\n"
      ],
      "metadata": {
        "colab": {
          "base_uri": "https://localhost:8080/"
        },
        "id": "mJnRxi5ifph_",
        "outputId": "91f27cd8-f598-4e6a-ffd7-a1b605d56741"
      },
      "execution_count": null,
      "outputs": [
        {
          "output_type": "stream",
          "name": "stdout",
          "text": [
            "The sum of the probabilities of being in different classes of a data sample is: 1.0\n",
            "The prediction of probabilities of being in different classes of each data sample is:\n",
            "[[4.75014425e-05 5.12637453e-07 2.16741287e-03 ... 9.95421177e-01\n",
            "  3.26845911e-06 1.14217699e-03]\n",
            " [8.34031878e-04 2.15401834e-06 9.97212795e-01 ... 2.73667796e-08\n",
            "  1.10451073e-04 2.29073448e-12]\n",
            " [4.99920533e-07 9.80861974e-01 4.83464599e-03 ... 3.07340986e-03\n",
            "  4.46065250e-03 1.05570753e-04]\n",
            " ...\n",
            " [3.26821308e-08 2.18302410e-07 8.85743915e-06 ... 1.82410925e-04\n",
            "  6.73748153e-04 2.48577113e-02]\n",
            " [7.52707695e-05 6.34605029e-05 4.79749097e-05 ... 4.05990523e-07\n",
            "  4.19548635e-02 3.72331609e-05]\n",
            " [9.08278959e-06 3.47790113e-14 3.31376791e-04 ... 7.50951582e-10\n",
            "  2.20292635e-08 2.11641883e-09]]\n"
          ]
        }
      ]
    },
    {
      "cell_type": "code",
      "source": [
        "# finding label based on predicted value.\n",
        "\n",
        "labeled_y = find_label(y_pred)    # calling find_label function to find corresponding label.\n",
        "print(f'The predicted label for training dataset is:')\n",
        "print(labeled_y)\n"
      ],
      "metadata": {
        "colab": {
          "base_uri": "https://localhost:8080/"
        },
        "id": "RWoyafVFfpa9",
        "outputId": "6052f32d-3b63-45f1-8283-8ce658743a3e"
      },
      "execution_count": null,
      "outputs": [
        {
          "output_type": "stream",
          "name": "stdout",
          "text": [
            "The predicted label for training dataset is:\n",
            "[[0. 0. 0. ... 1. 0. 0.]\n",
            " [0. 0. 1. ... 0. 0. 0.]\n",
            " [0. 1. 0. ... 0. 0. 0.]\n",
            " ...\n",
            " [0. 0. 0. ... 0. 0. 0.]\n",
            " [0. 0. 0. ... 0. 0. 0.]\n",
            " [0. 0. 0. ... 0. 0. 0.]]\n"
          ]
        }
      ]
    },
    {
      "cell_type": "code",
      "source": [
        "#printing the actual label of testing dataset.\n",
        "\n",
        "print('The actual label of testing dataset:')\n",
        "print(y_test)\n"
      ],
      "metadata": {
        "colab": {
          "base_uri": "https://localhost:8080/"
        },
        "id": "bTzwv59yfpUS",
        "outputId": "24053037-0249-4f85-90a7-d8aa1192e905"
      },
      "execution_count": null,
      "outputs": [
        {
          "output_type": "stream",
          "name": "stdout",
          "text": [
            "The actual label of testing dataset:\n",
            "[[0 0 0 ... 1 0 0]\n",
            " [0 0 1 ... 0 0 0]\n",
            " [0 1 0 ... 0 0 0]\n",
            " ...\n",
            " [0 0 0 ... 0 0 0]\n",
            " [0 0 0 ... 0 0 0]\n",
            " [0 0 0 ... 0 0 0]]\n"
          ]
        }
      ]
    },
    {
      "cell_type": "code",
      "source": [
        "accurate = accu(y_test, labeled_y)           # calling accuracy function to compute accuracy\n",
        "print(f'The testing accuracy is: {accurate}')      # predicted label and actual lebel.\n"
      ],
      "metadata": {
        "colab": {
          "base_uri": "https://localhost:8080/"
        },
        "id": "s5P2ojWkfpL-",
        "outputId": "d1939c07-239e-4a1f-8460-3f72eee69ecb"
      },
      "execution_count": null,
      "outputs": [
        {
          "output_type": "stream",
          "name": "stdout",
          "text": [
            "The testing accuracy is: 0.9226\n"
          ]
        }
      ]
    },
    {
      "cell_type": "code",
      "source": [],
      "metadata": {
        "id": "dsVe9qdtfpDf"
      },
      "execution_count": null,
      "outputs": []
    },
    {
      "cell_type": "markdown",
      "source": [
        "#Question :- How much improvement does the larger network provide?\n",
        "\n",
        "#Answer :- The larger network provides around 4 - 5 % improvement."
      ],
      "metadata": {
        "id": "Rf3iYb2m0Xjx"
      }
    }
  ]
}