{
  "nbformat": 4,
  "nbformat_minor": 0,
  "metadata": {
    "colab": {
      "provenance": []
    },
    "kernelspec": {
      "name": "python3",
      "display_name": "Python 3"
    },
    "language_info": {
      "name": "python"
    }
  },
  "cells": [
    {
      "cell_type": "markdown",
      "source": [
        "$$SOURAV MAJHI$$\n",
        "\n",
        "$$ROLL\\space NO. - MA23M022$$\n",
        "\n",
        "$$ASSIGNMENT \\space NO. 1$$"
      ],
      "metadata": {
        "id": "3vR5lcW9qcf9"
      }
    },
    {
      "cell_type": "markdown",
      "source": [
        "###Question No. 2.1:-\n",
        "\n",
        "Here, $H ∈ \\{1, . . . , K\\}$ be a discrete random variable, and $e1$ and $e2$ be the observed values of two other random variables $E1$ and $E2$.\n",
        "\n",
        "Now we are goning to calculate the vector $\\vec P(H|e1, e2) = (P (H = 1|e1, e2), . . . , P (H = K|e1, e2))$.\n",
        "\n",
        "###Q.2.a:-\n",
        "\n",
        "Therefore, each copmponent can be calculated as:\n",
        "\n",
        "$P(H = i|e1, e2) = \\frac{P(e1, e2|H = i)P(H = i)}{P(e1, e2)} , i = {1, . . . , k}$. ( by baye's rule).\n",
        "\n",
        "Hence, the option (ii) $P (e1, e2), P (H), P (e1, e2|H)$ is sufficient to calculate $\\vec P(H|e1, e2)$.\n",
        "\n",
        "###Q.2.b:-\n",
        "\n",
        "we now assume E1 ⊥ E2|H (i.e., E1 and E2 are conditionally independent given H).\n",
        "\n",
        "So, $E1 \\perp E2| H$ implies $P(e1, e2|H = i) = P(e1|H = i)P(e2|H = i) , i = {1, . . ., k}$\n",
        "\n",
        "Hence, the option (i) $P (e1, e2), P (H), P (e1|H), P (e2|H)$ is sufficient to calculate $\\vec P(H|e1, e2)$.\n"
      ],
      "metadata": {
        "id": "O0XAXKXkusMm"
      }
    },
    {
      "cell_type": "markdown",
      "source": [
        "###Question No. 2.3:-\n",
        "\n",
        "We know that $X\\perp Y|Z$  iff  $Pr(x, y|z) = Pr(x|z)Pr(y|z), . . .(i)$\n",
        "\n",
        "we have to show that $X\\perp Y|Z$ iff there exist functions $g$ and $h$ s.t. $Pr(x, y|z) = g(x, z)h(y, z)$\n",
        "\n",
        "Let us assume that $X\\perp Y|Z$ . This implies that:\n",
        "\n",
        "$Pr(x, y|z) = Pr(x|z)Pr(y|z) = Pr(X = x|Z = z)Pr(Y = y|Z = z)$\n",
        "\n",
        "$$ = \\frac{Pr(X = x|Z = z)}{Pr(Z = z)}*\\frac{Pr(Y = y|Z = z)}{Pr(Z = z)},. . .(ii)$$\n",
        "\n",
        "provided that $Pr(Z =z) > 0$.\n",
        "\n",
        "We consider two functions as $g(x, z) = \\frac{Pr(x, z)}{Pr(Z=z)}$ and $h(y, z) = \\frac{Pr(y, z)}{Pr(Z=z)}, . . . (iii)$\n",
        "\n",
        "Therefore, (i) gives $X\\perp Y|Z ⇒ Pr(x, y|z) = g(x, z)h(y, z), . . . (iv)$\n",
        "\n",
        "Conversly, it easy to show that $Pr(x, y|z) = g(x, z)h(y, z) ⇒ X\\perp Y|Z, . .\n",
        " (v).$ [using $(i)$ and $(iii)$.]\n",
        "\n",
        "Combining both $(iv)$ and $(v)$, we can get  $X\\perp Y|Z$ iff there exist functions $g$ and $h$ s.t. $Pr(x, y|z) = g(x, z)h(y, z)$ ."
      ],
      "metadata": {
        "id": "90E9uigi4tfx"
      }
    },
    {
      "cell_type": "markdown",
      "source": [
        "###Question No. 2.5:-\n",
        "\n",
        "Here, $x$ and $y$ are two points sampled independently and uniformly at random from the interval $[0, 1]$.\n",
        "\n",
        "Let, $X$ and $Y$ are random variables of sample points $x$ and $y$ from the interval $[0, 1]$ respectively.\n",
        "\n",
        "So, the distribution of random variable is $f(x) = 1$ if $x ∈ [0, 1]$ and $0$ if otherwise.\n",
        "\n",
        "And the distribution of random variable is $f(y) = 1$ if $y ∈ [0, 1]$ and $0$ if otherwise.\n",
        "\n",
        "Let us consider the random variable  $H(X, Y)$ = min{$X$, $Y$}.\n",
        "\n",
        "Let the distribution of $H$ is $f(x,y)$.\n",
        "\n",
        "Since $x, y$ are two points sampled independently, the random variables $X$ and $Y$ are indepent.\n",
        "\n",
        "So, $f(x, y) = f(x)f(y) = 1$ if $(x,y) ∈ [0, 1] × [0, 1]$ and $0$ if otherwise.\n",
        "\n",
        "E[H] = $\\int_{-∞}^\\infty \\int_{-∞}^\\infty min\\{x,y\\}.f(x, y) dxdy$\n",
        "\n",
        "=$\\int_{x = 0}^1 \\int_{y = 0}^x y dydx + \\int_{y = 0}^1 \\int_{x = 0}^y x dxdy $ , for the first integral $Y<X$ and for the second integral  $X<Y$.\n",
        "\n",
        "= $\\int_0^1 (x^2/2) dx + \\int_0^1 (y^2/2) dy $\n",
        "\n",
        "= 1/3"
      ],
      "metadata": {
        "id": "CcrnmMr_-j2a"
      }
    },
    {
      "cell_type": "code",
      "source": [
        "def medicalTest(h, YH): #where h is a 2-vector with the prior distribution of the general population and\n",
        "  length1 = len(h)                       #YH is a 2-by-2 matrix with the likelihoods of the medical test.\n",
        "  prob = np.zeros(length1)\n",
        "  for i in range(length1):\n",
        "    prob[i] = (h[i]*YH[i][i])/(np.dot(h,YH[:,i]))\n",
        "  return prob"
      ],
      "metadata": {
        "id": "TH6wAYDz2sML"
      },
      "execution_count": null,
      "outputs": []
    },
    {
      "cell_type": "code",
      "source": [
        "# Section 2.3.1 :-\n",
        "\n",
        "import numpy as np\n",
        "test_prior = np.array([[0.975, 0.025], [0.125, 0.875]]) #test_prior is a 2-by-2 matrix with the likelihoods of the medical test.\n",
        "prior_probability = np.array([0.9, 0.1])                #prior_probability is a 2-vector with the prior distribution of the general population\n",
        "print('The test prior matrix is:')\n",
        "print(test_prior)\n",
        "print('The probablity of test result is:')\n",
        "print(prior_probability)\n",
        "p = medicalTest(prior_probability, test_prior)\n",
        "print('The required result is:')\n",
        "print(p)\n",
        "print('The probability of negative after testing negative:',round(p[0], 3))\n",
        "print('The probability of positive after testing positive:',round(p[1], 3))"
      ],
      "metadata": {
        "colab": {
          "base_uri": "https://localhost:8080/"
        },
        "id": "Xu05jlrq-N89",
        "outputId": "01975266-8695-4f87-bc01-c95f8ac07246"
      },
      "execution_count": null,
      "outputs": [
        {
          "output_type": "stream",
          "name": "stdout",
          "text": [
            "The test prior matrix is:\n",
            "[[0.975 0.025]\n",
            " [0.125 0.875]]\n",
            "The probablity of test result is:\n",
            "[0.9 0.1]\n",
            "The required result is:\n",
            "[0.98595506 0.79545455]\n",
            "The probability of negative after testing negative: 0.986\n",
            "The probability of positive after testing positive: 0.795\n"
          ]
        }
      ]
    },
    {
      "cell_type": "code",
      "source": [
        "# Question No.  2.9 :-\n",
        "\n",
        "import numpy as np\n",
        "test_prior = np.array([[0.99, 0.01], [0.01, 0.99]]) #test_prior is a 2-by-2 matrix with the likelihoods of the medical test.\n",
        "prior_probability = np.array([0.9999, 0.0001])      #prior_probabilityis a 2-vector with the prior distribution of the general population\n",
        "print('The test prior matrix is:')\n",
        "print(test_prior)\n",
        "print('The probablity of test result is:')\n",
        "print(prior_probability)\n",
        "p = medicalTest(prior_probability, test_prior)\n",
        "print('The required result is:')\n",
        "print(p)\n",
        "print('the chances that I actually have the disease is:', round(p[1], 3),'%')"
      ],
      "metadata": {
        "colab": {
          "base_uri": "https://localhost:8080/"
        },
        "id": "kA8DRm8K_ktV",
        "outputId": "1cadfb39-296f-47f3-8751-a1accf58f9a3"
      },
      "execution_count": null,
      "outputs": [
        {
          "output_type": "stream",
          "name": "stdout",
          "text": [
            "The test prior matrix is:\n",
            "[[0.99 0.01]\n",
            " [0.01 0.99]]\n",
            "The probablity of test result is:\n",
            "[9.999e-01 1.000e-04]\n",
            "The required result is:\n",
            "[0.99999899 0.00980392]\n",
            "the chances that I actually have the disease is: 0.01 %\n"
          ]
        }
      ]
    },
    {
      "cell_type": "markdown",
      "source": [
        "###Question No. 2.11:-\n",
        "\n",
        "The event space is, $ S = \\{BB, BG, GB, GG\\}$. Where $B$ and $G$ stand for boy and girl respectively.\n",
        "\n",
        "###Problem 1:\n",
        "\n",
        "we consider the events as:\n",
        "\n",
        "$A$ = Family has at least one boy.\n",
        "\n",
        "$B$ = Family has at least one girl.\n",
        "\n",
        "$A ∩ B$ = Family has one boy and one girl.\n",
        "\n",
        "Therefore, $Pr(A) = \\frac{1}{4} + \\frac{1}{4} + \\frac{1}{4} = \\frac{3}{4}, Pr(B) = \\frac{1}{4} + \\frac{1}{4} + \\frac{1}{4} = \\frac{3}{4}$, and $Pr(A∩B) = \\frac{1}{4} + \\frac{1}{4} = \\frac{1}{2}$.\n",
        "\n",
        "So, the conditional probability that one child is a\n",
        "girl is, $Pr(B|A)= \\frac{Pr(A∩B)}{Pr(A)}= \\frac{\\frac{1}{2}}{\\frac{3}{4}}= \\frac{2}{3}$\n",
        "\n",
        "###Problem 2:\n",
        "\n",
        "We consider the events as:\n",
        "\n",
        "$C$ = The child I saw is a boy.\n",
        "\n",
        "$D$ = the other child is a girl.\n",
        "\n",
        "Therefore, $C$ and $D$ are independent events. Also, $Pr(D) = \\frac{1}{4} + \\frac{1}{4} = \\frac{1}{2}$ .\n",
        "\n",
        "Therefore, the conditional probability that the other child is a girl is, $Pr(D|C)= \\frac{Pr(C∩D)}{Pr(C)} = \\frac{Pr(C)∗Pr(D)}{Pr(C)}= \\frac{1}{2}$"
      ],
      "metadata": {
        "id": "7wuHNl3aUOAL"
      }
    },
    {
      "cell_type": "code",
      "source": [],
      "metadata": {
        "id": "MxEmL6SKRa-J"
      },
      "execution_count": null,
      "outputs": []
    }
  ]
}